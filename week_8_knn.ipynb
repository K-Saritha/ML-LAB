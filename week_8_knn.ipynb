{
  "nbformat": 4,
  "nbformat_minor": 0,
  "metadata": {
    "colab": {
      "provenance": [],
      "authorship_tag": "ABX9TyMwCRra+Ahh6NUIqB7dQgXA",
      "include_colab_link": true
    },
    "kernelspec": {
      "name": "python3",
      "display_name": "Python 3"
    },
    "language_info": {
      "name": "python"
    }
  },
  "cells": [
    {
      "cell_type": "markdown",
      "metadata": {
        "id": "view-in-github",
        "colab_type": "text"
      },
      "source": [
        "<a href=\"https://colab.research.google.com/github/K-Saritha/ML-LAB/blob/main/week_8_knn.ipynb\" target=\"_parent\"><img src=\"https://colab.research.google.com/assets/colab-badge.svg\" alt=\"Open In Colab\"/></a>"
      ]
    },
    {
      "cell_type": "code",
      "execution_count": null,
      "metadata": {
        "id": "PvuQF3OjEd6w"
      },
      "outputs": [],
      "source": [
        "import numpy as np\n",
        "import pandas as pd\n",
        "import matplotlib.pyplot as plt\n",
        "import seaborn as sns\n",
        "import statsmodels.api as sm\n",
        "from sklearn.linear_model import LinearRegression\n",
        "from sklearn.metrics import mean_squared_error,mean_absolute_error,r2_score,accuracy_score\n",
        "from sklearn.model_selection import train_test_split\n",
        "from sklearn.neighbors import KNeighborsClassifier\n",
        "from sklearn.metrics import precision_score,recall_score\n",
        "from sklearn.metrics import accuracy_score, confusion_matrix"
      ]
    },
    {
      "cell_type": "code",
      "source": [
        "data=pd.read_csv(\"/content/diabetes - diabetes.csv\")"
      ],
      "metadata": {
        "id": "RQV24w3gEhYD"
      },
      "execution_count": null,
      "outputs": []
    },
    {
      "cell_type": "code",
      "source": [
        "X=data.iloc[:,:8]\n",
        "y=data.iloc[:,-1]\n",
        "X_train,X_test,y_train,y_test=train_test_split(X,y,test_size=0.3,random_state=200)"
      ],
      "metadata": {
        "id": "NDAjGc4GE0dg"
      },
      "execution_count": null,
      "outputs": []
    },
    {
      "cell_type": "code",
      "source": [
        "import numpy as np\n",
        "from collections import Counter\n",
        "\n",
        "def euclidean_distance(x1, x2):\n",
        "    return np.sqrt(np.sum((x1-x2)**2))\n",
        "\n",
        "def predict(X_train, y_train, X_test, k):\n",
        "    y_pred = []\n",
        "    for test_point in X_test:\n",
        "        distances = [euclidean_distance(test_point, train_point) for train_point in X_train]\n",
        "        k_nearest_indices = np.argsort(distances)[:k]\n",
        "        k_nearest_labels = [y_train[i] for i in k_nearest_indices]\n",
        "        # Predict the label based on the majority class among the k-nearest neighbors\n",
        "        pred_label = Counter(k_nearest_labels).most_common(1)[0][0]\n",
        "        y_pred.append(pred_label)\n",
        "    return np.array(y_pred)\n",
        "\n",
        "def accuracy(y_true, y_pred):\n",
        "    return np.sum(y_true == y_pred) / len(y_true)\n",
        "\n",
        "def confusion_matrix_manual(y_true, y_pred):\n",
        "    # Get unique class labels\n",
        "    classes = np.unique(np.concatenate((y_true, y_pred)))\n",
        "    num_classes = len(classes)\n",
        "\n",
        "    # Create confusion matrix with correct dimensions\n",
        "    cm = np.zeros((num_classes, num_classes), dtype=int)\n",
        "\n",
        "    for i in range(len(y_true)):\n",
        "        # Get indices of true and predicted labels in classes array\n",
        "        true_idx = np.where(classes == y_true[i])[0][0]\n",
        "        pred_idx = np.where(classes == y_pred[i])[0][0]\n",
        "\n",
        "        # Increment the count in the confusion matrix\n",
        "        cm[true_idx, pred_idx] += 1\n",
        "\n",
        "    return cm\n",
        "\n",
        "# Assuming X_train, y_train, X_test, y_test are already defined\n",
        "k_values = [3, 5, 7, 9, 11]\n",
        "accuracies = []\n",
        "\n",
        "for k in k_values:\n",
        "    y_pred = predict(X_train.values, y_train.values, X_test.values, k)\n",
        "    acc = accuracy(y_test, y_pred)\n",
        "    accuracies.append(acc)\n",
        "    cm = confusion_matrix_manual(y_test.values, y_pred) # Pass y_test.values\n",
        "    print(f\"Confusion Matrix for k={k}:\\n{cm}\\n\")\n",
        "    print(f\"Accuracy for k={k}: {acc}\")"
      ],
      "metadata": {
        "colab": {
          "base_uri": "https://localhost:8080/"
        },
        "id": "m9lG0DaiEvRK",
        "outputId": "4ef0fac6-6f14-4e3f-f61d-c66f49a66168"
      },
      "execution_count": null,
      "outputs": [
        {
          "output_type": "stream",
          "name": "stdout",
          "text": [
            "Confusion Matrix for k=3:\n",
            "[[119  40]\n",
            " [ 25  47]]\n",
            "\n",
            "Accuracy for k=3: 0.7186147186147186\n",
            "Confusion Matrix for k=5:\n",
            "[[121  38]\n",
            " [ 24  48]]\n",
            "\n",
            "Accuracy for k=5: 0.7316017316017316\n",
            "Confusion Matrix for k=7:\n",
            "[[128  31]\n",
            " [ 26  46]]\n",
            "\n",
            "Accuracy for k=7: 0.7532467532467533\n",
            "Confusion Matrix for k=9:\n",
            "[[128  31]\n",
            " [ 26  46]]\n",
            "\n",
            "Accuracy for k=9: 0.7532467532467533\n",
            "Confusion Matrix for k=11:\n",
            "[[129  30]\n",
            " [ 28  44]]\n",
            "\n",
            "Accuracy for k=11: 0.7489177489177489\n"
          ]
        }
      ]
    },
    {
      "cell_type": "code",
      "source": [
        "plt.plot(k_values, accuracies, marker='o')\n",
        "plt.xlabel('k')\n",
        "plt.ylabel('Accuracy')\n",
        "plt.title('k vs Accuracy')\n",
        "plt.show()"
      ],
      "metadata": {
        "colab": {
          "base_uri": "https://localhost:8080/",
          "height": 472
        },
        "id": "JdKiayU4FQsK",
        "outputId": "37c8b15d-1cff-4e5d-fd89-3374b68741a3"
      },
      "execution_count": null,
      "outputs": [
        {
          "output_type": "display_data",
          "data": {
            "text/plain": [
              "<Figure size 640x480 with 1 Axes>"
            ],
            "image/png": "[encoded data removed]"
          },
          "metadata": {}
        }
      ]
    }
  ]
}