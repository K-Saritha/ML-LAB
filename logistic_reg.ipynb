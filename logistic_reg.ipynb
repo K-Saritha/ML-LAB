{
  "nbformat": 4,
  "nbformat_minor": 0,
  "metadata": {
    "colab": {
      "provenance": [],
      "authorship_tag": "ABX9TyMlxYy7z4Hmyx67+jDhqsyM",
      "include_colab_link": true
    },
    "kernelspec": {
      "name": "python3",
      "display_name": "Python 3"
    },
    "language_info": {
      "name": "python"
    }
  },
  "cells": [
    {
      "cell_type": "markdown",
      "metadata": {
        "id": "view-in-github",
        "colab_type": "text"
      },
      "source": [
        "<a href=\"https://colab.research.google.com/github/K-Saritha/ML-LAB/blob/main/logistic_reg.ipynb\" target=\"_parent\"><img src=\"https://colab.research.google.com/assets/colab-badge.svg\" alt=\"Open In Colab\"/></a>"
      ]
    },
    {
      "cell_type": "code",
      "execution_count": 109,
      "metadata": {
        "id": "JRlkd693i5zM"
      },
      "outputs": [],
      "source": [
        "import numpy as np\n",
        "import pandas as pd\n",
        "import matplotlib.pyplot as plt\n",
        "import seaborn as sns\n",
        "import statsmodels.api as sm\n",
        "from sklearn.linear_model import LinearRegression\n",
        "from sklearn.metrics import mean_squared_error,mean_absolute_error,r2_score,accuracy_score\n",
        "from sklearn.model_selection import train_test_split\n",
        "from sklearn.neighbors import KNeighborsClassifier\n",
        "from sklearn.metrics import precision_score,recall_score\n",
        "from sklearn.metrics import accuracy_score, confusion_matrix"
      ]
    },
    {
      "cell_type": "code",
      "source": [
        "data=pd.read_csv(\"/content/diabetes - diabetes.csv\")"
      ],
      "metadata": {
        "id": "KZXKQ5HljUQP"
      },
      "execution_count": 110,
      "outputs": []
    },
    {
      "cell_type": "code",
      "source": [
        "X=data.iloc[:,:8]\n",
        "y=data.iloc[:,-1]\n",
        "X_train,X_test,y_train,y_test=train_test_split(X,y,test_size=0.3,random_state=42)"
      ],
      "metadata": {
        "id": "OwIt0mYqjg9X"
      },
      "execution_count": 111,
      "outputs": []
    },
    {
      "cell_type": "code",
      "source": [
        "knn=KNeighborsClassifier(n_neighbors=7)\n",
        "knn.fit(X_train,y_train)\n",
        "y_pred=knn.predict(X_test)\n",
        "print(accuracy_score(y_test,y_pred))"
      ],
      "metadata": {
        "colab": {
          "base_uri": "https://localhost:8080/"
        },
        "id": "dM8DROQ5m0u4",
        "outputId": "486efca5-169c-40d4-cfd2-683fe687f432"
      },
      "execution_count": 112,
      "outputs": [
        {
          "output_type": "stream",
          "name": "stdout",
          "text": [
            "0.6926406926406926\n"
          ]
        }
      ]
    },
    {
      "cell_type": "markdown",
      "source": [
        "**LOGISTIC REGRESSION**"
      ],
      "metadata": {
        "id": "RKuIfyUh4udw"
      }
    },
    {
      "cell_type": "code",
      "source": [
        "#PERFORM LOGISTIC REGRESSION ON ACTUAL DATA\n",
        "\n",
        "from sklearn.linear_model import LogisticRegression\n",
        "log=LogisticRegression(max_iter=200)\n",
        "log.fit(X_train,y_train)\n",
        "y_pred=log.predict(X_test)\n",
        "print(accuracy_score(y_test,y_pred))\n",
        "print(confusion_matrix(y_test,y_pred))"
      ],
      "metadata": {
        "colab": {
          "base_uri": "https://localhost:8080/"
        },
        "id": "qGEzqmLC9Acx",
        "outputId": "ac3fdcf4-0d58-4d99-8653-0d80d6928443"
      },
      "execution_count": 114,
      "outputs": [
        {
          "output_type": "stream",
          "name": "stdout",
          "text": [
            "0.7359307359307359\n",
            "[[120  31]\n",
            " [ 30  50]]\n"
          ]
        }
      ]
    },
    {
      "cell_type": "code",
      "source": [
        "#perform pca on actual data\n",
        "from sklearn.decomposition import PCA\n",
        "pca=PCA(n_components=6)\n",
        "x_pca=pca.fit_transform(X)\n",
        "x_pca_train,x_pca_test,y_pca_train,y_pca_test=train_test_split(x_pca,y,test_size=0.3,random_state=42)\n"
      ],
      "metadata": {
        "id": "kefJ8uFDFMDw"
      },
      "execution_count": 130,
      "outputs": []
    },
    {
      "cell_type": "code",
      "source": [
        "#perform logistic regression pca dats\n",
        "log=LogisticRegression(max_iter=100)\n",
        "log.fit(x_pca_train,y_pca_train)\n",
        "y_pca_pred=log.predict(x_pca_test)\n",
        "print(accuracy_score(y_pca_test,y_pca_pred))\n",
        "print(confusion_matrix(y_pca_test,y_pca_pred))\n"
      ],
      "metadata": {
        "colab": {
          "base_uri": "https://localhost:8080/"
        },
        "id": "SAhRZ73IGJ0A",
        "outputId": "3c65baee-b16a-450d-d49b-ba49c5e188a3"
      },
      "execution_count": 131,
      "outputs": [
        {
          "output_type": "stream",
          "name": "stdout",
          "text": [
            "0.7272727272727273\n",
            "[[122  29]\n",
            " [ 34  46]]\n"
          ]
        }
      ]
    }
  ]
}