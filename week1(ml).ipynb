{
  "nbformat": 4,
  "nbformat_minor": 0,
  "metadata": {
    "colab": {
      "provenance": [],
      "authorship_tag": "ABX9TyOZFKBl9XseEwYXhaefb9Rm",
      "include_colab_link": true
    },
    "kernelspec": {
      "name": "python3",
      "display_name": "Python 3"
    },
    "language_info": {
      "name": "python"
    }
  },
  "cells": [
    {
      "cell_type": "markdown",
      "metadata": {
        "id": "view-in-github",
        "colab_type": "text"
      },
      "source": [
        "<a href=\"https://colab.research.google.com/github/K-Saritha/ML-LAB/blob/main/week1(ml).ipynb\" target=\"_parent\"><img src=\"https://colab.research.google.com/assets/colab-badge.svg\" alt=\"Open In Colab\"/></a>"
      ]
    },
    {
      "cell_type": "code",
      "execution_count": null,
      "metadata": {
        "colab": {
          "base_uri": "https://localhost:8080/"
        },
        "id": "NL1h5RuNSu9y",
        "outputId": "3727a780-79a8-4cef-f24d-8a9353e970c6"
      },
      "outputs": [
        {
          "output_type": "stream",
          "name": "stdout",
          "text": [
            "<class 'numpy.ndarray'>\n",
            "(3,)\n",
            "0\n",
            "1\n",
            "2\n"
          ]
        }
      ],
      "source": [
        "import numpy as np\n",
        "a=np.array([0,1,2])\n",
        "print(type(a))\n",
        "print(a.shape)\n",
        "print(a[0])\n",
        "print(a[1])\n",
        "print(a[2])\n"
      ]
    },
    {
      "cell_type": "code",
      "source": [
        "b=np.array([[1,2,3],[4,5,6]])\n",
        "print(b.shape)\n",
        "print(b[0,0],b[0,1],b[1,0])"
      ],
      "metadata": {
        "colab": {
          "base_uri": "https://localhost:8080/"
        },
        "id": "7pKV8QN3Xyc6",
        "outputId": "871039e1-5ee4-4c6f-97bf-309885d353d3"
      },
      "execution_count": null,
      "outputs": [
        {
          "output_type": "stream",
          "name": "stdout",
          "text": [
            "(2, 3)\n",
            "1 2 4\n"
          ]
        }
      ]
    },
    {
      "cell_type": "code",
      "source": [
        "a=np.zeros((3,3))\n",
        "print(a)"
      ],
      "metadata": {
        "colab": {
          "base_uri": "https://localhost:8080/"
        },
        "id": "Cet4EWJnZW7d",
        "outputId": "c085004c-b28e-40cd-da16-b247c860b980"
      },
      "execution_count": null,
      "outputs": [
        {
          "output_type": "stream",
          "name": "stdout",
          "text": [
            "[[0. 0. 0.]\n",
            " [0. 0. 0.]\n",
            " [0. 0. 0.]]\n"
          ]
        }
      ]
    },
    {
      "cell_type": "code",
      "source": [
        "b=np.ones((4,6))\n",
        "print(b)"
      ],
      "metadata": {
        "colab": {
          "base_uri": "https://localhost:8080/"
        },
        "id": "CkDr5B9dZkfC",
        "outputId": "f1165466-b034-4d54-dd3d-6c1f84f698c0"
      },
      "execution_count": null,
      "outputs": [
        {
          "output_type": "stream",
          "name": "stdout",
          "text": [
            "[[1. 1. 1. 1. 1. 1.]\n",
            " [1. 1. 1. 1. 1. 1.]\n",
            " [1. 1. 1. 1. 1. 1.]\n",
            " [1. 1. 1. 1. 1. 1.]]\n"
          ]
        }
      ]
    },
    {
      "cell_type": "code",
      "source": [
        "c=np.full((4,2),24)\n",
        "print(c)"
      ],
      "metadata": {
        "colab": {
          "base_uri": "https://localhost:8080/"
        },
        "id": "zpfa_bKVZ6IC",
        "outputId": "686317e2-6c08-425a-eb27-3a8c53f1e37c"
      },
      "execution_count": null,
      "outputs": [
        {
          "output_type": "stream",
          "name": "stdout",
          "text": [
            "[[24 24]\n",
            " [24 24]\n",
            " [24 24]\n",
            " [24 24]]\n"
          ]
        }
      ]
    },
    {
      "cell_type": "code",
      "source": [
        "d=np.random.random((4,4))\n",
        "print(d)\n",
        "\n",
        "\n",
        "e=np.random.random(10)\n",
        "print(e)"
      ],
      "metadata": {
        "colab": {
          "base_uri": "https://localhost:8080/"
        },
        "id": "OuGguYkxagyD",
        "outputId": "9bede79a-6625-4a7a-a9e5-d4aabb404973"
      },
      "execution_count": null,
      "outputs": [
        {
          "output_type": "stream",
          "name": "stdout",
          "text": [
            "[[0.52550843 0.29085734 0.36937174 0.02333609]\n",
            " [0.50145167 0.15000134 0.55551492 0.98891483]\n",
            " [0.59361298 0.35380223 0.86557922 0.60284167]\n",
            " [0.93058204 0.61171555 0.74714892 0.254942  ]]\n",
            "[0.78502074 0.93509319 0.81009716 0.94390249 0.46251281 0.26725823\n",
            " 0.91748192 0.22611142 0.17419808 0.54301909]\n"
          ]
        }
      ]
    },
    {
      "cell_type": "code",
      "source": [
        "f=np.eye(6)\n",
        "print(f)"
      ],
      "metadata": {
        "colab": {
          "base_uri": "https://localhost:8080/"
        },
        "id": "Q8dYj9XVa4b6",
        "outputId": "e1430a10-0663-4fa2-c196-32a2acb0736b"
      },
      "execution_count": null,
      "outputs": [
        {
          "output_type": "stream",
          "name": "stdout",
          "text": [
            "[[1. 0. 0. 0. 0. 0.]\n",
            " [0. 1. 0. 0. 0. 0.]\n",
            " [0. 0. 1. 0. 0. 0.]\n",
            " [0. 0. 0. 1. 0. 0.]\n",
            " [0. 0. 0. 0. 1. 0.]\n",
            " [0. 0. 0. 0. 0. 1.]]\n"
          ]
        }
      ]
    },
    {
      "cell_type": "markdown",
      "source": [
        "Data structures\n"
      ],
      "metadata": {
        "id": "SohLEHnHcz1b"
      }
    },
    {
      "cell_type": "markdown",
      "source": [
        "array can only store homogeneous elements  [2,3,4]\n",
        "list stores heterogeneous elements  [2,'r','sai']\n",
        "tuple also stores heterogeneous elements but this is immutable whereas lists are mutable (3, 'saisri', 5.0)\n",
        "dictionary stores key value pairs\n",
        "\n"
      ],
      "metadata": {
        "id": "LtjTAkwwcStK"
      }
    },
    {
      "cell_type": "code",
      "source": [
        "#convert list to array\n",
        "l=[1,'d',8.0]\n",
        "g=np.array(l)\n",
        "print(g)\n",
        "print(type(g))"
      ],
      "metadata": {
        "colab": {
          "base_uri": "https://localhost:8080/"
        },
        "id": "zc9KcMFpc6vg",
        "outputId": "2dc4190c-3bc7-49db-e7c5-abeaf24e26d9"
      },
      "execution_count": null,
      "outputs": [
        {
          "output_type": "stream",
          "name": "stdout",
          "text": [
            "['1' 'd' '8.0']\n",
            "<class 'numpy.ndarray'>\n"
          ]
        }
      ]
    },
    {
      "cell_type": "code",
      "source": [
        "#arrange function\n",
        "a=np.arange(10)\n",
        "print(a)\n",
        "\n",
        "#increment by given value\n",
        "b=np.arange(2,10,2)\n",
        "print(b)\n",
        "\n",
        "#can jump by decreasing, float range\n",
        "c=np.arange(10,2,-2)\n",
        "print(c)\n",
        "\n",
        "d=np.arange(3,10,0.25)\n",
        "print(d)"
      ],
      "metadata": {
        "colab": {
          "base_uri": "https://localhost:8080/"
        },
        "id": "3GJ142u4dYFO",
        "outputId": "70f30ea9-0250-41e6-9c6c-98d37ae3d96c"
      },
      "execution_count": null,
      "outputs": [
        {
          "output_type": "stream",
          "name": "stdout",
          "text": [
            "[0 1 2 3 4 5 6 7 8 9]\n",
            "[2 4 6 8]\n",
            "[10  8  6  4]\n",
            "[3.   3.25 3.5  3.75 4.   4.25 4.5  4.75 5.   5.25 5.5  5.75 6.   6.25\n",
            " 6.5  6.75 7.   7.25 7.5  7.75 8.   8.25 8.5  8.75 9.   9.25 9.5  9.75]\n"
          ]
        }
      ]
    },
    {
      "cell_type": "code",
      "source": [
        "#mix of lists and tuples\n",
        "h=np.array([[1,2,3],('e',0.3,'sdfsdf'),(0,0,0)])\n",
        "print(h)"
      ],
      "metadata": {
        "colab": {
          "base_uri": "https://localhost:8080/"
        },
        "id": "T0o-VQdze9-W",
        "outputId": "f27ef213-a336-445e-8ce9-160a1692b77e"
      },
      "execution_count": null,
      "outputs": [
        {
          "output_type": "stream",
          "name": "stdout",
          "text": [
            "[['1' '2' '3']\n",
            " ['e' '0.3' 'sdfsdf']\n",
            " ['0' '0' '0']]\n"
          ]
        }
      ]
    },
    {
      "cell_type": "code",
      "source": [
        "#np.arrange for float values\n",
        "a=np.arange(1,10,0.5)\n",
        "print(a)"
      ],
      "metadata": {
        "colab": {
          "base_uri": "https://localhost:8080/"
        },
        "id": "KzXyVztXgU7x",
        "outputId": "e15db0a2-f8f9-45b9-f3b4-50e8b3cae52c"
      },
      "execution_count": null,
      "outputs": [
        {
          "output_type": "stream",
          "name": "stdout",
          "text": [
            "[1.  1.5 2.  2.5 3.  3.5 4.  4.5 5.  5.5 6.  6.5 7.  7.5 8.  8.5 9.  9.5]\n"
          ]
        }
      ]
    },
    {
      "cell_type": "code",
      "source": [
        "#linspace()\n",
        "\n",
        "a=np.linspace(1,10,5)\n",
        "print(a)\n",
        "print(a.dtype)"
      ],
      "metadata": {
        "colab": {
          "base_uri": "https://localhost:8080/"
        },
        "id": "XMc5tJCBf8nI",
        "outputId": "4b91caa3-7a00-4716-85c0-d615b9f1a4bf"
      },
      "execution_count": null,
      "outputs": [
        {
          "output_type": "stream",
          "name": "stdout",
          "text": [
            "[ 1.    3.25  5.5   7.75 10.  ]\n",
            "float64\n"
          ]
        }
      ]
    },
    {
      "cell_type": "markdown",
      "source": [
        "Array indexing\n"
      ],
      "metadata": {
        "id": "XQlH6bFFhOyB"
      }
    },
    {
      "cell_type": "code",
      "source": [
        "arr=np.array([[1,2,3,10],[4,5,6,11],[7,8,9,12]])\n",
        "print(arr)\n",
        "\n",
        "#slicing\n",
        "a=arr[:3,::2]\n",
        "b=arr[:2,:2]\n",
        "print(a)\n",
        "print(b)\n",
        "\n"
      ],
      "metadata": {
        "colab": {
          "base_uri": "https://localhost:8080/"
        },
        "id": "XPWMW3_WhQid",
        "outputId": "faabe9e7-600e-4443-9215-8d9908928150"
      },
      "execution_count": null,
      "outputs": [
        {
          "output_type": "stream",
          "name": "stdout",
          "text": [
            "[[ 1  2  3 10]\n",
            " [ 4  5  6 11]\n",
            " [ 7  8  9 12]]\n",
            "[[1 3]\n",
            " [4 6]\n",
            " [7 9]]\n",
            "[[1 2]\n",
            " [4 5]]\n"
          ]
        }
      ]
    },
    {
      "cell_type": "code",
      "source": [
        "# accsess array elements with rows and columns indices\n",
        "arr=np.array([[1,2,3,10],[4,5,6,11],[7,8,9,12]])\n",
        "\n",
        "temp=arr[[1,2],[1,1]]# first list contains all row indices and next tupe contains all columns indices here (1,1),(2,1)\n",
        "print(temp)\n"
      ],
      "metadata": {
        "colab": {
          "base_uri": "https://localhost:8080/"
        },
        "id": "Ys7aPKXjjK7x",
        "outputId": "d82d53df-4ec7-4838-d0f7-1bf92513d3b7"
      },
      "execution_count": null,
      "outputs": [
        {
          "output_type": "stream",
          "name": "stdout",
          "text": [
            "[5 8]\n"
          ]
        }
      ]
    },
    {
      "cell_type": "code",
      "source": [
        "#boolean array indexing\n",
        "arr=np.array([[1,-2,3,-10],[4,5,-6,11],[7,8,9,-12]])\n",
        "\n",
        "temp=arr[arr>=8]\n",
        "print(temp)"
      ],
      "metadata": {
        "colab": {
          "base_uri": "https://localhost:8080/"
        },
        "id": "sHqHIvEZkBfV",
        "outputId": "8149b1f2-97eb-4e1b-cbfd-2f0ef24b8bc5"
      },
      "execution_count": null,
      "outputs": [
        {
          "output_type": "stream",
          "name": "stdout",
          "text": [
            "[11  8  9]\n"
          ]
        }
      ]
    },
    {
      "cell_type": "code",
      "source": [
        "#adding 1 to every elements\n",
        "arr=np.array([[1,-2,3,-10],[4,5,-6,11],[7,8,9,-12]])\n",
        "arr=arr+1\n",
        "print(arr)\n",
        "\n",
        "#can also perform sub,mul,div,squaring,modify\n",
        "arr=arr*5\n",
        "print(arr)\n"
      ],
      "metadata": {
        "colab": {
          "base_uri": "https://localhost:8080/"
        },
        "id": "YB1ygDcOlCH5",
        "outputId": "bf254522-8bb1-4ca6-b55e-60169932d21b"
      },
      "execution_count": null,
      "outputs": [
        {
          "output_type": "stream",
          "name": "stdout",
          "text": [
            "[[  2  -1   4  -9]\n",
            " [  5   6  -5  12]\n",
            " [  8   9  10 -11]]\n",
            "[[ 10  -5  20 -45]\n",
            " [ 25  30 -25  60]\n",
            " [ 40  45  50 -55]]\n"
          ]
        }
      ]
    },
    {
      "cell_type": "code",
      "source": [
        "#transpose matrix array\n",
        "arr=np.array([[1,-2,3,-10],[4,5,-6,11],[7,8,9,-12]])\n",
        "print(arr.T)\n"
      ],
      "metadata": {
        "colab": {
          "base_uri": "https://localhost:8080/"
        },
        "id": "s4DhsbsUl8-b",
        "outputId": "7a9111ee-b7cb-4350-e8ef-b969237d6c58"
      },
      "execution_count": null,
      "outputs": [
        {
          "output_type": "stream",
          "name": "stdout",
          "text": [
            "[[  1   4   7]\n",
            " [ -2   5   8]\n",
            " [  3  -6   9]\n",
            " [-10  11 -12]]\n"
          ]
        }
      ]
    },
    {
      "cell_type": "code",
      "source": [
        "#maximum element of array\n",
        "arr=np.array([[1,-2,3,-10],[4,15,-6,11],[7,8,9,-12]])\n",
        "print(arr.max())\n",
        "#minimum\n",
        "print(arr.min())\n",
        "#specify row wise\n",
        "print(arr.min(axis=1))\n",
        "#specify column wise\n",
        "print(arr.max(axis=0))\n"
      ],
      "metadata": {
        "colab": {
          "base_uri": "https://localhost:8080/"
        },
        "id": "tD6hQRUKmlED",
        "outputId": "cecfceb6-2750-476e-a5f0-e643edb6f5e7"
      },
      "execution_count": null,
      "outputs": [
        {
          "output_type": "stream",
          "name": "stdout",
          "text": [
            "15\n",
            "-12\n",
            "[-10  -6 -12]\n",
            "[ 7 15  9 11]\n"
          ]
        }
      ]
    },
    {
      "cell_type": "code",
      "source": [
        "#array sum\n",
        "arr=np.array([[1,-2,3,-10],[4,15,-6,11],[7,8,9,-12]])\n",
        "print(arr.sum())\n",
        "#cumsum()\n",
        "print(arr.cumsum())\n",
        "#column wise\n",
        "print(arr.cumsum(axis=0))\n",
        "#row wise\n",
        "print(arr.cumsum(axis=1))\n",
        "#"
      ],
      "metadata": {
        "colab": {
          "base_uri": "https://localhost:8080/"
        },
        "id": "vn-tGPEZnQnK",
        "outputId": "63a9e645-cd99-4203-8a2a-c24296847a91"
      },
      "execution_count": null,
      "outputs": [
        {
          "output_type": "stream",
          "name": "stdout",
          "text": [
            "28\n",
            "[ 1 -1  2 -8 -4 11  5 16 23 31 40 28]\n",
            "[[  1  -2   3 -10]\n",
            " [  5  13  -3   1]\n",
            " [ 12  21   6 -11]]\n",
            "[[ 1 -1  2 -8]\n",
            " [ 4 19 13 24]\n",
            " [ 7 15 24 12]]\n"
          ]
        }
      ]
    },
    {
      "cell_type": "code",
      "source": [
        "\n",
        "from matplotlib import pyplot as plt\n",
        "x=np.arange(5)\n",
        "y=(20,35,30,35,27)\n",
        "plt.bar(x,y)\n",
        "plt.show()"
      ],
      "metadata": {
        "colab": {
          "base_uri": "https://localhost:8080/",
          "height": 430
        },
        "id": "QG5q1CO5Ts0p",
        "outputId": "a66bee3d-1f28-4ae7-b20e-c03515e3bd1f"
      },
      "execution_count": null,
      "outputs": [
        {
          "output_type": "display_data",
          "data": {
            "text/plain": [
              "<Figure size 640x480 with 1 Axes>"
            ],
            "image/png": "[encoded data removed]"
          },
          "metadata": {}
        }
      ]
    },
    {
      "cell_type": "code",
      "source": [
        "plt.scatter(x,y)\n",
        "plt.show()"
      ],
      "metadata": {
        "colab": {
          "base_uri": "https://localhost:8080/",
          "height": 430
        },
        "id": "lSdyXuphUP6G",
        "outputId": "a83ebeab-414c-4578-b6b9-490fa4ecf5e5"
      },
      "execution_count": null,
      "outputs": [
        {
          "output_type": "display_data",
          "data": {
            "text/plain": [
              "<Figure size 640x480 with 1 Axes>"
            ],
            "image/png": "[encoded data removed]"
          },
          "metadata": {}
        }
      ]
    },
    {
      "cell_type": "code",
      "source": [
        "import pandas as pd\n",
        "data=pd.read_csv(\"/content/Salary_dataset_simple_linear_reg - Salary_dataset_simple_linear_reg (1).csv\")\n",
        "data.hist()"
      ],
      "metadata": {
        "colab": {
          "base_uri": "https://localhost:8080/",
          "height": 469
        },
        "id": "nEkfEsG60LmO",
        "outputId": "c0e3ea37-dbde-4a29-9b2c-6236a25c9bd0"
      },
      "execution_count": null,
      "outputs": [
        {
          "output_type": "execute_result",
          "data": {
            "text/plain": [
              "<Axes: >"
            ]
          },
          "metadata": {},
          "execution_count": 3
        },
        {
          "output_type": "display_data",
          "data": {
            "text/plain": [
              "<Figure size 640x480 with 4 Axes>"
            ],
            "image/png": "[encoded data removed]"
          },
          "metadata": {}
        }
      ]
    },
    {
      "cell_type": "code",
      "source": [
        "data.plot()"
      ],
      "metadata": {
        "colab": {
          "base_uri": "https://localhost:8080/",
          "height": 447
        },
        "id": "pDwM4inx0_qp",
        "outputId": "708b4fde-438f-4253-d75d-df154834b5f6"
      },
      "execution_count": null,
      "outputs": [
        {
          "output_type": "execute_result",
          "data": {
            "text/plain": [
              "<Axes: >"
            ]
          },
          "metadata": {},
          "execution_count": 4
        },
        {
          "output_type": "display_data",
          "data": {
            "text/plain": [
              "<Figure size 640x480 with 1 Axes>"
            ],
            "image/png": "[encoded data removed]"
          },
          "metadata": {}
        }
      ]
    },
    {
      "cell_type": "code",
      "source": [
        "data.boxplot()"
      ],
      "metadata": {
        "colab": {
          "base_uri": "https://localhost:8080/",
          "height": 447
        },
        "id": "Ltz3XRL71DyH",
        "outputId": "65752ceb-f8fd-4a9d-f52e-6e2a7707fd62"
      },
      "execution_count": null,
      "outputs": [
        {
          "output_type": "execute_result",
          "data": {
            "text/plain": [
              "<Axes: >"
            ]
          },
          "metadata": {},
          "execution_count": 5
        },
        {
          "output_type": "display_data",
          "data": {
            "text/plain": [
              "<Figure size 640x480 with 1 Axes>"
            ],
            "image/png": "[encoded data removed]"
          },
          "metadata": {}
        }
      ]
    }
  ]
}