{
  "nbformat": 4,
  "nbformat_minor": 0,
  "metadata": {
    "colab": {
      "provenance": []
    },
    "kernelspec": {
      "name": "python3",
      "display_name": "Python 3"
    },
    "language_info": {
      "name": "python"
    }
  },
  "cells": [
    {
      "cell_type": "code",
      "execution_count": 2,
      "metadata": {
        "colab": {
          "base_uri": "https://localhost:8080/"
        },
        "id": "NL1h5RuNSu9y",
        "outputId": "8e83b66e-b2b4-44ba-f614-cf587f63b816"
      },
      "outputs": [
        {
          "output_type": "stream",
          "name": "stdout",
          "text": [
            "<class 'numpy.ndarray'>\n",
            "(3,)\n",
            "0\n",
            "1\n",
            "2\n"
          ]
        }
      ],
      "source": [
        "import numpy as np\n",
        "a=np.array([0,1,2])\n",
        "print(type(a))\n",
        "print(a.shape)\n",
        "print(a[0])\n",
        "print(a[1])\n",
        "print(a[2])\n"
      ]
    },
    {
      "cell_type": "code",
      "source": [
        "b=np.array([[1,2,3],[4,5,6]])\n",
        "print(b.shape)\n",
        "print(b[0,0],b[0,1],b[1,0])"
      ],
      "metadata": {
        "colab": {
          "base_uri": "https://localhost:8080/"
        },
        "id": "7pKV8QN3Xyc6",
        "outputId": "da9d430b-3bee-4f2b-bf89-d4620eb5ed22"
      },
      "execution_count": 3,
      "outputs": [
        {
          "output_type": "stream",
          "name": "stdout",
          "text": [
            "(2, 3)\n",
            "1 2 4\n"
          ]
        }
      ]
    },
    {
      "cell_type": "code",
      "source": [
        "a=np.zeros((3,3))\n",
        "print(a)"
      ],
      "metadata": {
        "colab": {
          "base_uri": "https://localhost:8080/"
        },
        "id": "Cet4EWJnZW7d",
        "outputId": "a97cf1fd-25de-4869-cda4-c524f530d200"
      },
      "execution_count": 5,
      "outputs": [
        {
          "output_type": "stream",
          "name": "stdout",
          "text": [
            "[[0. 0. 0.]\n",
            " [0. 0. 0.]\n",
            " [0. 0. 0.]]\n"
          ]
        }
      ]
    },
    {
      "cell_type": "code",
      "source": [
        "b=np.ones((4,6))\n",
        "print(b)"
      ],
      "metadata": {
        "colab": {
          "base_uri": "https://localhost:8080/"
        },
        "id": "CkDr5B9dZkfC",
        "outputId": "b3ddba44-c0c6-4865-9966-4999075dd3b4"
      },
      "execution_count": 7,
      "outputs": [
        {
          "output_type": "stream",
          "name": "stdout",
          "text": [
            "[[1. 1. 1. 1. 1. 1.]\n",
            " [1. 1. 1. 1. 1. 1.]\n",
            " [1. 1. 1. 1. 1. 1.]\n",
            " [1. 1. 1. 1. 1. 1.]]\n"
          ]
        }
      ]
    },
    {
      "cell_type": "code",
      "source": [
        "c=np.full((4,2),24)\n",
        "print(c)"
      ],
      "metadata": {
        "colab": {
          "base_uri": "https://localhost:8080/"
        },
        "id": "zpfa_bKVZ6IC",
        "outputId": "b18ac932-a8f1-4217-a786-0ea56bd33dee"
      },
      "execution_count": 9,
      "outputs": [
        {
          "output_type": "stream",
          "name": "stdout",
          "text": [
            "[[24 24]\n",
            " [24 24]\n",
            " [24 24]\n",
            " [24 24]]\n"
          ]
        }
      ]
    },
    {
      "cell_type": "code",
      "source": [
        "d=np.random.random((4,4))\n",
        "print(d)\n",
        "\n",
        "\n",
        "e=np.random.random(10)\n",
        "print(e)"
      ],
      "metadata": {
        "colab": {
          "base_uri": "https://localhost:8080/"
        },
        "id": "OuGguYkxagyD",
        "outputId": "ef34f8b3-41c6-4941-d9da-d328e67758bc"
      },
      "execution_count": 10,
      "outputs": [
        {
          "output_type": "stream",
          "name": "stdout",
          "text": [
            "[[0.92471717 0.30860434 0.35070216 0.660973  ]\n",
            " [0.27482833 0.10202087 0.09380196 0.85611803]\n",
            " [0.26648391 0.05081406 0.06277549 0.22567249]\n",
            " [0.59209459 0.44617915 0.31439271 0.66180342]]\n",
            "[0.51307765 0.14136269 0.29995168 0.37510694 0.57561128 0.05500232\n",
            " 0.64989953 0.91874742 0.850625   0.77047726]\n"
          ]
        }
      ]
    },
    {
      "cell_type": "code",
      "source": [
        "f=np.eye(6)\n",
        "print(f)"
      ],
      "metadata": {
        "colab": {
          "base_uri": "https://localhost:8080/"
        },
        "id": "Q8dYj9XVa4b6",
        "outputId": "b90ae3e1-8700-4ab8-a9d8-feebf648c2ee"
      },
      "execution_count": 12,
      "outputs": [
        {
          "output_type": "stream",
          "name": "stdout",
          "text": [
            "[[1. 0. 0. 0. 0.]\n",
            " [0. 1. 0. 0. 0.]\n",
            " [0. 0. 1. 0. 0.]\n",
            " [0. 0. 0. 1. 0.]\n",
            " [0. 0. 0. 0. 1.]\n",
            " [0. 0. 0. 0. 0.]]\n"
          ]
        }
      ]
    },
    {
      "cell_type": "markdown",
      "source": [
        "Data structures\n"
      ],
      "metadata": {
        "id": "SohLEHnHcz1b"
      }
    },
    {
      "cell_type": "markdown",
      "source": [
        "array can only store homogeneous elements  [2,3,4]\n",
        "list stores heterogeneous elements  [2,'r','sai']\n",
        "tuple also stores heterogeneous elements but this is immutable whereas lists are mutable (3, 'saisri', 5.0)\n",
        "dictionary stores key value pairs\n",
        "\n"
      ],
      "metadata": {
        "id": "LtjTAkwwcStK"
      }
    },
    {
      "cell_type": "code",
      "source": [
        "#convert list to array\n",
        "l=[1,'d',8.0]\n",
        "g=np.array(l)\n",
        "print(g)\n",
        "print(type(g))"
      ],
      "metadata": {
        "colab": {
          "base_uri": "https://localhost:8080/"
        },
        "id": "zc9KcMFpc6vg",
        "outputId": "5a6b7f5a-b5f3-4f83-dba1-d1c81b671086"
      },
      "execution_count": 15,
      "outputs": [
        {
          "output_type": "stream",
          "name": "stdout",
          "text": [
            "['1' 'd' '8.0']\n",
            "<class 'numpy.ndarray'>\n"
          ]
        }
      ]
    },
    {
      "cell_type": "code",
      "source": [
        "#arrange function\n",
        "a=np.arange(10)\n",
        "print(a)\n",
        "\n",
        "#increment by given value\n",
        "b=np.arange(2,10,2)\n",
        "print(b)\n",
        "\n",
        "#can jump by decreasing, float range\n",
        "c=np.arange(10,2,-2)\n",
        "print(c)\n",
        "\n",
        "d=np.arange(3,10,0.25)\n",
        "print(d)"
      ],
      "metadata": {
        "colab": {
          "base_uri": "https://localhost:8080/"
        },
        "id": "3GJ142u4dYFO",
        "outputId": "6c86ec7e-1ac6-4e00-9f7b-be800075714a"
      },
      "execution_count": 21,
      "outputs": [
        {
          "output_type": "stream",
          "name": "stdout",
          "text": [
            "[0 1 2 3 4 5 6 7 8 9]\n",
            "[2 4 6 8]\n",
            "[10  8  6  4]\n",
            "[3.   3.25 3.5  3.75 4.   4.25 4.5  4.75 5.   5.25 5.5  5.75 6.   6.25\n",
            " 6.5  6.75 7.   7.25 7.5  7.75 8.   8.25 8.5  8.75 9.   9.25 9.5  9.75]\n"
          ]
        }
      ]
    },
    {
      "cell_type": "code",
      "source": [
        "#mix of lists and tuples\n",
        "h=np.array([[1,2,3],('e',0.3,'sdfsdf'),(0,0,0)])\n",
        "print(h)"
      ],
      "metadata": {
        "colab": {
          "base_uri": "https://localhost:8080/"
        },
        "id": "T0o-VQdze9-W",
        "outputId": "c30bbd9b-8e2d-4f76-87b3-e33ee29083dd"
      },
      "execution_count": 23,
      "outputs": [
        {
          "output_type": "stream",
          "name": "stdout",
          "text": [
            "[['1' '2' '3']\n",
            " ['e' '0.3' 'sdfsdf']\n",
            " ['0' '0' '0']]\n"
          ]
        }
      ]
    },
    {
      "cell_type": "code",
      "source": [
        "#np.arrange for float values\n",
        "a=np.arange(1,10,0.5)\n",
        "print(a)"
      ],
      "metadata": {
        "colab": {
          "base_uri": "https://localhost:8080/"
        },
        "id": "KzXyVztXgU7x",
        "outputId": "d9698e66-6ade-414c-f6b7-349abafeff86"
      },
      "execution_count": 29,
      "outputs": [
        {
          "output_type": "stream",
          "name": "stdout",
          "text": [
            "[1.  1.5 2.  2.5 3.  3.5 4.  4.5 5.  5.5 6.  6.5 7.  7.5 8.  8.5 9.  9.5]\n"
          ]
        }
      ]
    },
    {
      "cell_type": "code",
      "source": [
        "#linspace()\n",
        "\n",
        "a=np.linspace(1,10,5)\n",
        "print(a)\n",
        "print(a.dtype)"
      ],
      "metadata": {
        "colab": {
          "base_uri": "https://localhost:8080/"
        },
        "id": "XMc5tJCBf8nI",
        "outputId": "aa10828d-dfe5-4d21-aab7-9386785eb818"
      },
      "execution_count": 28,
      "outputs": [
        {
          "output_type": "stream",
          "name": "stdout",
          "text": [
            "[ 1.    3.25  5.5   7.75 10.  ]\n",
            "float64\n"
          ]
        }
      ]
    },
    {
      "cell_type": "markdown",
      "source": [
        "Array indexing\n"
      ],
      "metadata": {
        "id": "XQlH6bFFhOyB"
      }
    },
    {
      "cell_type": "code",
      "source": [
        "arr=np.array([[1,2,3,10],[4,5,6,11],[7,8,9,12]])\n",
        "print(arr)\n",
        "\n",
        "#slicing\n",
        "a=arr[:3,::2]\n",
        "b=arr[:2,:2]\n",
        "print(a)\n",
        "print(b)\n",
        "\n"
      ],
      "metadata": {
        "colab": {
          "base_uri": "https://localhost:8080/"
        },
        "id": "XPWMW3_WhQid",
        "outputId": "5955d46b-141a-4388-9cb8-0e33735a5d75"
      },
      "execution_count": 36,
      "outputs": [
        {
          "output_type": "stream",
          "name": "stdout",
          "text": [
            "[[ 1  2  3 10]\n",
            " [ 4  5  6 11]\n",
            " [ 7  8  9 12]]\n",
            "[[1 3]\n",
            " [4 6]\n",
            " [7 9]]\n",
            "[[1 2]\n",
            " [4 5]]\n"
          ]
        }
      ]
    },
    {
      "cell_type": "code",
      "source": [
        "# accsess array elements with rows and columns indices\n",
        "arr=np.array([[1,2,3,10],[4,5,6,11],[7,8,9,12]])\n",
        "\n",
        "temp=arr[[1,2],[1,1]]# first list contains all row indices and next tupe contains all columns indices here (1,1),(2,1)\n",
        "print(temp)\n"
      ],
      "metadata": {
        "colab": {
          "base_uri": "https://localhost:8080/"
        },
        "id": "Ys7aPKXjjK7x",
        "outputId": "cca39715-4b2f-417d-d7cf-d8b2df9d48ba"
      },
      "execution_count": 39,
      "outputs": [
        {
          "output_type": "stream",
          "name": "stdout",
          "text": [
            "[5 8]\n"
          ]
        }
      ]
    },
    {
      "cell_type": "code",
      "source": [
        "#boolean array indexing\n",
        "arr=np.array([[1,-2,3,-10],[4,5,-6,11],[7,8,9,-12]])\n",
        "\n",
        "temp=arr[arr>=8]\n",
        "print(temp)"
      ],
      "metadata": {
        "colab": {
          "base_uri": "https://localhost:8080/"
        },
        "id": "sHqHIvEZkBfV",
        "outputId": "32351d84-13e6-4ab7-af75-ce62e7ed50f2"
      },
      "execution_count": 41,
      "outputs": [
        {
          "output_type": "stream",
          "name": "stdout",
          "text": [
            "[11  8  9]\n"
          ]
        }
      ]
    },
    {
      "cell_type": "code",
      "source": [
        "#adding 1 to every elements\n",
        "arr=np.array([[1,-2,3,-10],[4,5,-6,11],[7,8,9,-12]])\n",
        "arr=arr+1\n",
        "print(arr)\n",
        "\n",
        "#can also perform sub,mul,div,squaring,modify\n",
        "arr=arr*5\n",
        "print(arr)\n"
      ],
      "metadata": {
        "colab": {
          "base_uri": "https://localhost:8080/"
        },
        "id": "YB1ygDcOlCH5",
        "outputId": "f4b53071-ae80-4a92-c082-7a910b2bd39c"
      },
      "execution_count": 44,
      "outputs": [
        {
          "output_type": "stream",
          "name": "stdout",
          "text": [
            "[[  2  -1   4  -9]\n",
            " [  5   6  -5  12]\n",
            " [  8   9  10 -11]]\n",
            "[[ 10  -5  20 -45]\n",
            " [ 25  30 -25  60]\n",
            " [ 40  45  50 -55]]\n"
          ]
        }
      ]
    },
    {
      "cell_type": "code",
      "source": [
        "#transpose matrix array\n",
        "arr=np.array([[1,-2,3,-10],[4,5,-6,11],[7,8,9,-12]])\n",
        "print(arr.T)\n"
      ],
      "metadata": {
        "colab": {
          "base_uri": "https://localhost:8080/"
        },
        "id": "s4DhsbsUl8-b",
        "outputId": "8a9e757a-4e4d-4dca-eeb3-cc47eb2231ef"
      },
      "execution_count": 43,
      "outputs": [
        {
          "output_type": "stream",
          "name": "stdout",
          "text": [
            "[[  1   4   7]\n",
            " [ -2   5   8]\n",
            " [  3  -6   9]\n",
            " [-10  11 -12]]\n"
          ]
        }
      ]
    },
    {
      "cell_type": "code",
      "source": [
        "#maximum element of array\n",
        "arr=np.array([[1,-2,3,-10],[4,15,-6,11],[7,8,9,-12]])\n",
        "print(arr.max())\n",
        "#minimum\n",
        "print(arr.min())\n",
        "#specify row wise\n",
        "print(arr.min(axis=1))\n",
        "#specify column wise\n",
        "print(arr.max(axis=0))\n"
      ],
      "metadata": {
        "colab": {
          "base_uri": "https://localhost:8080/"
        },
        "id": "tD6hQRUKmlED",
        "outputId": "3c79e425-4434-4663-cd36-866c0359d839"
      },
      "execution_count": 49,
      "outputs": [
        {
          "output_type": "stream",
          "name": "stdout",
          "text": [
            "15\n",
            "-12\n",
            "[-10  -6 -12]\n",
            "[ 7 15  9 11]\n"
          ]
        }
      ]
    },
    {
      "cell_type": "code",
      "source": [
        "#array sum\n",
        "arr=np.array([[1,-2,3,-10],[4,15,-6,11],[7,8,9,-12]])\n",
        "print(arr.sum())\n",
        "#cumsum()\n",
        "print(arr.cumsum())\n",
        "#column wise\n",
        "print(arr.cumsum(axis=0))\n",
        "#row wise\n",
        "print(arr.cumsum(axis=1))\n",
        "#"
      ],
      "metadata": {
        "colab": {
          "base_uri": "https://localhost:8080/"
        },
        "id": "vn-tGPEZnQnK",
        "outputId": "ddd304fa-b275-4646-9866-758128d6c7ee"
      },
      "execution_count": 51,
      "outputs": [
        {
          "output_type": "stream",
          "name": "stdout",
          "text": [
            "28\n",
            "[ 1 -1  2 -8 -4 11  5 16 23 31 40 28]\n",
            "[[  1  -2   3 -10]\n",
            " [  5  13  -3   1]\n",
            " [ 12  21   6 -11]]\n",
            "[[ 1 -1  2 -8]\n",
            " [ 4 19 13 24]\n",
            " [ 7 15 24 12]]\n"
          ]
        }
      ]
    }
  ]
}